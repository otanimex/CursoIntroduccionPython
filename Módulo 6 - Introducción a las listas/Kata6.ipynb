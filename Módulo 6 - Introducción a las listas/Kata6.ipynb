{
 "cells": [
  {
   "cell_type": "markdown",
   "metadata": {},
   "source": [
    "Ejercicio 1"
   ]
  },
  {
   "cell_type": "code",
   "execution_count": 1,
   "metadata": {},
   "outputs": [
    {
     "name": "stdout",
     "output_type": "stream",
     "text": [
      "Mercurio\n",
      "Venus\n",
      "Tierra\n",
      "Marte\n",
      "Jupiter\n",
      "Saturno\n",
      "Urano\n",
      "Neptuno\n",
      "Pluton\n"
     ]
    }
   ],
   "source": [
    "planets = ['Mercurio', 'Venus', 'Tierra', 'Marte', 'Jupiter', 'Saturno', 'Urano', 'Neptuno']\n",
    "planets.append('Pluton')\n",
    "for planet in planets:\n",
    "    print(planet)"
   ]
  },
  {
   "cell_type": "markdown",
   "metadata": {},
   "source": [
    "Ejercicio 2"
   ]
  },
  {
   "cell_type": "code",
   "execution_count": 9,
   "metadata": {},
   "outputs": [
    {
     "name": "stdout",
     "output_type": "stream",
     "text": [
      "El planeta que buscas es el 3 más alejado del sol\n",
      "Los planetas más cercanos al sol son: \n",
      "\n",
      "['Mercurio', 'Venus']\n",
      "Los planetas más lejanos al sol son: \n",
      "\n",
      "['Marte', 'Jupiter', 'Saturno', 'Urano', 'Neptuno', 'Pluton']\n"
     ]
    }
   ],
   "source": [
    "planeta_buscado = input(\"Escribe el nombre del planeta que deseas buscar: \\n\")\n",
    "planet_index=planets.index(planeta_buscado)\n",
    "for planet in planets:\n",
    "    if planet == planeta_buscado:\n",
    "        print(f\"El planeta que buscas es el {planets.index(planet)+1} más alejado del sol\")\n",
    "print(\"Los planetas más cercanos al sol son: \\n\")\n",
    "print(planets[0:planet_index])\n",
    "print(\"Los planetas más lejanos al sol son: \\n\")\n",
    "print(planets[planet_index+1:])\n"
   ]
  }
 ],
 "metadata": {
  "kernelspec": {
   "display_name": "Python 3.10.5 64-bit (windows store)",
   "language": "python",
   "name": "python3"
  },
  "language_info": {
   "codemirror_mode": {
    "name": "ipython",
    "version": 3
   },
   "file_extension": ".py",
   "mimetype": "text/x-python",
   "name": "python",
   "nbconvert_exporter": "python",
   "pygments_lexer": "ipython3",
   "version": "3.10.5"
  },
  "orig_nbformat": 4,
  "vscode": {
   "interpreter": {
    "hash": "277980b9e7a575c0c8f0d7d7739fd1278ea9e1be8a3063f29cb78f511fee4431"
   }
  }
 },
 "nbformat": 4,
 "nbformat_minor": 2
}
