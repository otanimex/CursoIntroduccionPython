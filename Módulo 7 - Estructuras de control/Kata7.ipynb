{
 "cells": [
  {
   "cell_type": "markdown",
   "metadata": {},
   "source": [
    "Ejercicio 1"
   ]
  },
  {
   "cell_type": "code",
   "execution_count": 4,
   "metadata": {},
   "outputs": [
    {
     "name": "stdout",
     "output_type": "stream",
     "text": [
      "['Mercurio', 'Venus', 'Marte', 'Jupiter', 'done']\n"
     ]
    }
   ],
   "source": [
    "new_planet = input('Ingresa un planeta para imprimir la lista de planetas escribe done:')\n",
    "planets = []\n",
    "while new_planet != 'done':\n",
    "    new_planet = input('Ingresa un planeta para imprimir la lista de planetas escribe done:')\n",
    "    planets.append(new_planet)\n",
    "print(planets)"
   ]
  },
  {
   "cell_type": "markdown",
   "metadata": {},
   "source": [
    "Ejercicio 2"
   ]
  },
  {
   "cell_type": "code",
   "execution_count": 5,
   "metadata": {},
   "outputs": [
    {
     "name": "stdout",
     "output_type": "stream",
     "text": [
      "Mercurio\n",
      "Venus\n",
      "Marte\n",
      "Jupiter\n",
      "done\n"
     ]
    }
   ],
   "source": [
    "for planet in planets:\n",
    "    print(planet)"
   ]
  }
 ],
 "metadata": {
  "kernelspec": {
   "display_name": "Python 3.10.5 64-bit (windows store)",
   "language": "python",
   "name": "python3"
  },
  "language_info": {
   "codemirror_mode": {
    "name": "ipython",
    "version": 3
   },
   "file_extension": ".py",
   "mimetype": "text/x-python",
   "name": "python",
   "nbconvert_exporter": "python",
   "pygments_lexer": "ipython3",
   "version": "3.10.5"
  },
  "orig_nbformat": 4,
  "vscode": {
   "interpreter": {
    "hash": "277980b9e7a575c0c8f0d7d7739fd1278ea9e1be8a3063f29cb78f511fee4431"
   }
  }
 },
 "nbformat": 4,
 "nbformat_minor": 2
}
