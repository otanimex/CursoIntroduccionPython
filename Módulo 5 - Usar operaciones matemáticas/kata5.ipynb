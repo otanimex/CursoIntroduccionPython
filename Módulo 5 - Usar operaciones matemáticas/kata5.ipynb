{
 "cells": [
  {
   "cell_type": "markdown",
   "metadata": {},
   "source": [
    "Ejercicio 1"
   ]
  },
  {
   "cell_type": "code",
   "execution_count": 1,
   "metadata": {},
   "outputs": [
    {
     "name": "stdout",
     "output_type": "stream",
     "text": [
      "la distancia entre los planetas en km es: 628949330\n",
      "La distancia entre los planetas en millas es: 390577533.93\n"
     ]
    }
   ],
   "source": [
    "distancia_tierra = 149597870\n",
    "distancia_jupiter = 778547200\n",
    "km_a_mll = 0.621\n",
    "distancia_km = (distancia_jupiter-distancia_tierra)\n",
    "distancia_mll = distancia_km*0.621\n",
    "print(f\"\"\"la distancia entre los planetas en km es: {distancia_km}\\nLa distancia entre los planetas en millas es: {distancia_mll}\"\"\")\n"
   ]
  },
  {
   "cell_type": "markdown",
   "metadata": {},
   "source": [
    "Ejercicio 2"
   ]
  },
  {
   "cell_type": "code",
   "execution_count": 2,
   "metadata": {},
   "outputs": [
    {
     "name": "stdout",
     "output_type": "stream",
     "text": [
      "El siguiente progama regresa la distancia entre dos planetas ocupando la distancia de los planetas con el sol\n",
      "\n",
      "La distancia entre Jupiter y Mercurio es de 720700000 km o 447554700.0 millas \n",
      "\n"
     ]
    }
   ],
   "source": [
    "print(\"El siguiente progama regresa la distancia entre dos planetas ocupando la distancia de los planetas con el sol\\n\")\n",
    "primer_planeta = input('Nombra el primer planeta\\n')\n",
    "distancia_primer_planeta = input('Ingresa su distancia al sol\\n')\n",
    "segundo_planeta = input('Nombra el segundo planeta\\n')\n",
    "distancia_segundo_planeta = input('Ingresa su distancia al sol\\n')\n",
    "dist_1 = int(distancia_primer_planeta)\n",
    "dist_2 = int(distancia_segundo_planeta)\n",
    "dist_km = dist_1-dist_2\n",
    "dist_mll = dist_km*km_a_mll\n",
    "print(f\"\"\"La distancia entre {primer_planeta} y {segundo_planeta} es de {dist_km} km o {dist_mll} millas \\n\"\"\")"
   ]
  }
 ],
 "metadata": {
  "kernelspec": {
   "display_name": "Python 3.10.5 64-bit (windows store)",
   "language": "python",
   "name": "python3"
  },
  "language_info": {
   "codemirror_mode": {
    "name": "ipython",
    "version": 3
   },
   "file_extension": ".py",
   "mimetype": "text/x-python",
   "name": "python",
   "nbconvert_exporter": "python",
   "pygments_lexer": "ipython3",
   "version": "3.10.5"
  },
  "orig_nbformat": 4,
  "vscode": {
   "interpreter": {
    "hash": "277980b9e7a575c0c8f0d7d7739fd1278ea9e1be8a3063f29cb78f511fee4431"
   }
  }
 },
 "nbformat": 4,
 "nbformat_minor": 2
}
