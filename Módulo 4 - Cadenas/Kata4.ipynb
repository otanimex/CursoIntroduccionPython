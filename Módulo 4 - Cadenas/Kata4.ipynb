{
 "cells": [
  {
   "cell_type": "markdown",
   "metadata": {},
   "source": [
    "Ejercicio 1"
   ]
  },
  {
   "cell_type": "code",
   "execution_count": 10,
   "metadata": {},
   "outputs": [
    {
     "name": "stdout",
     "output_type": "stream",
     "text": [
      " \n",
      "On average, the Moon moves 4cm away from the Earth every year\n",
      " The highest daylight temperature of the Moon is 127 C\n",
      " The highest daylight temperature of the Moon is 127 Celsius\n"
     ]
    }
   ],
   "source": [
    "text = \"\"\"Interesting facts about the Moon. The Moon is Earth's only satellite. There are several interesting facts about the Moon and how it affects life here on Earth. \n",
    "On average, the Moon moves 4cm away from the Earth every year. This yearly drift is not significant enough to cause immediate effects on Earth. The highest daylight temperature of the Moon is 127 C.\"\"\"\n",
    "texto_dividido=text.split('.')\n",
    "palabras_clave=['average', 'temperature', 'distance']\n",
    "palabras_cambio=['C']\n",
    "for oracion in texto_dividido:\n",
    "    for palabra in palabras_clave:\n",
    "        if palabra in oracion:\n",
    "            print(oracion)\n",
    "for oracion in texto_dividido:\n",
    "    for palabra in palabras_cambio:\n",
    "        if palabra in oracion:\n",
    "            print(oracion.replace('C', 'Celsius'))\n",
    "        \n",
    "\n"
   ]
  },
  {
   "cell_type": "markdown",
   "metadata": {},
   "source": [
    "Ejercicio 2"
   ]
  },
  {
   "cell_type": "code",
   "execution_count": 13,
   "metadata": {},
   "outputs": [
    {
     "name": "stdout",
     "output_type": "stream",
     "text": [
      "Datos de gravedad sobre: Moon\n",
      "******************************\n",
      "planeta = Moon\n",
      "gravedad = 0.00162\n",
      "nombre = Earth\n",
      "\n"
     ]
    }
   ],
   "source": [
    "name = \"Moon\"\n",
    "gravity = 0.00162 # in kms\n",
    "planet = \"Earth\"\n",
    "titulo=name.title()\n",
    "plantilla = f\"\"\"Datos de gravedad sobre: {titulo}\\n{'*'*30}\\nplaneta = {name}\\ngravedad = {gravity}\\nnombre = {planet}\\n\"\"\"\n",
    "print(plantilla)"
   ]
  }
 ],
 "metadata": {
  "kernelspec": {
   "display_name": "Python 3.10.5 64-bit (windows store)",
   "language": "python",
   "name": "python3"
  },
  "language_info": {
   "codemirror_mode": {
    "name": "ipython",
    "version": 3
   },
   "file_extension": ".py",
   "mimetype": "text/x-python",
   "name": "python",
   "nbconvert_exporter": "python",
   "pygments_lexer": "ipython3",
   "version": "3.10.5"
  },
  "orig_nbformat": 4,
  "vscode": {
   "interpreter": {
    "hash": "277980b9e7a575c0c8f0d7d7739fd1278ea9e1be8a3063f29cb78f511fee4431"
   }
  }
 },
 "nbformat": 4,
 "nbformat_minor": 2
}
