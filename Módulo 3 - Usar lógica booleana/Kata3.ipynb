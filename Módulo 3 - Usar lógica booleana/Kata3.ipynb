{
 "cells": [
  {
   "cell_type": "markdown",
   "metadata": {},
   "source": [
    "Problema 1"
   ]
  },
  {
   "cell_type": "code",
   "execution_count": 6,
   "metadata": {},
   "outputs": [
    {
     "name": "stdout",
     "output_type": "stream",
     "text": [
      "Advertencia un asteroide se acerca a la tierra\n"
     ]
    }
   ],
   "source": [
    "Velocidad_Asteroide=49\n",
    "if Velocidad_Asteroide>25:\n",
    "    print(\"Advertencia un asteroide se acerca a la tierra\")\n",
    "else:\n",
    "    print(\"Todo chido\")"
   ]
  },
  {
   "cell_type": "markdown",
   "metadata": {},
   "source": [
    "Problema 2"
   ]
  },
  {
   "cell_type": "code",
   "execution_count": 9,
   "metadata": {},
   "outputs": [
    {
     "name": "stdout",
     "output_type": "stream",
     "text": [
      "Todo chido\n"
     ]
    }
   ],
   "source": [
    "Velocidad_Asteroide=19\n",
    "if Velocidad_Asteroide>25:\n",
    "    print(\"Advertencia un asteroide se acerca a la tierra\")\n",
    "elif Velocidad_Asteroide>=20:\n",
    "    print(\"Se puede observar un rayo de luz en el cielo\")\n",
    "else:\n",
    "    print(\"Todo chido\")\n"
   ]
  },
  {
   "cell_type": "markdown",
   "metadata": {},
   "source": [
    "Problema 3"
   ]
  },
  {
   "cell_type": "code",
   "execution_count": 12,
   "metadata": {},
   "outputs": [
    {
     "name": "stdout",
     "output_type": "stream",
     "text": [
      "Advertencia un asteroide se acerca a la tierra\n"
     ]
    }
   ],
   "source": [
    "Velocidad_Asteroide=26\n",
    "Tamanio_Asteroide=40\n",
    "if Velocidad_Asteroide>25 and Tamanio_Asteroide>25:\n",
    "    print(\"Advertencia un asteroide se acerca a la tierra\")\n",
    "elif Velocidad_Asteroide>=20:\n",
    "    print(\"Se puede observar un rayo de luz en el cielo\")\n",
    "elif Tamanio_Asteroide<25:\n",
    "    print(\"Todo chido\")\n",
    "else:\n",
    "    print(\"Todo chido\")"
   ]
  }
 ],
 "metadata": {
  "kernelspec": {
   "display_name": "Python 3.10.5 64-bit",
   "language": "python",
   "name": "python3"
  },
  "language_info": {
   "codemirror_mode": {
    "name": "ipython",
    "version": 3
   },
   "file_extension": ".py",
   "mimetype": "text/x-python",
   "name": "python",
   "nbconvert_exporter": "python",
   "pygments_lexer": "ipython3",
   "version": "3.10.5"
  },
  "orig_nbformat": 4,
  "vscode": {
   "interpreter": {
    "hash": "4bb78fb9fb776e724dd05344d3bc97d9c991fe35aa6a4cbcdec5b0c3b3ec119c"
   }
  }
 },
 "nbformat": 4,
 "nbformat_minor": 2
}
